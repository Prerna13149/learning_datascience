{
 "cells": [
  {
   "cell_type": "code",
   "execution_count": 12,
   "metadata": {},
   "outputs": [],
   "source": [
    "import numpy\n",
    "import matplotlib.pyplot as plot\n",
    "import pandas as pd\n",
    "from sklearn.model_selection import train_test_split\n",
    "from sklearn.linear_model import LinearRegression"
   ]
  },
  {
   "cell_type": "code",
   "execution_count": 13,
   "metadata": {},
   "outputs": [],
   "source": [
    "from sklearn.metrics import r2_score\n",
    "from sklearn.metrics import mean_squared_error\n",
    "from sklearn.metrics import mean_absolute_error"
   ]
  },
  {
   "cell_type": "code",
   "execution_count": 14,
   "metadata": {},
   "outputs": [],
   "source": [
    "data = pd.read_csv('regression_data1.csv', header=None)\n",
    "#print(data)"
   ]
  },
  {
   "cell_type": "code",
   "execution_count": 15,
   "metadata": {},
   "outputs": [
    {
     "name": "stdout",
     "output_type": "stream",
     "text": [
      "          0        1\n",
      "0  -0.72407  2.23863\n",
      "1  -2.40724 -0.00156\n",
      "2   2.64837  3.01665\n",
      "3   0.36092  2.31019\n",
      "4   0.67312  2.05950\n",
      "5  -0.45460  1.24736\n",
      "6   2.20168  2.82497\n",
      "7   1.15605  2.21802\n",
      "8   0.50694  1.43644\n",
      "9  -0.85952  1.74980\n",
      "10 -0.59970  1.63259\n",
      "11  1.46804  2.43461\n",
      "12 -1.05659  1.02226\n",
      "13  1.29177  3.11769\n",
      "14 -0.74565  0.81194\n",
      "15  0.15033  2.81910\n",
      "16 -1.49627  0.53105\n",
      "17 -0.72071  1.64845\n",
      "18  0.32924  1.91416\n",
      "19 -0.28053  2.11376\n",
      "20 -1.36115  1.70969\n",
      "21  0.74678  2.92253\n",
      "22  0.10621  3.29827\n",
      "23  0.03256  1.58565\n",
      "24 -0.98290  2.30455\n",
      "25 -1.15661  1.79169\n",
      "26  0.09024  1.54723\n",
      "27 -1.03816  1.06893\n",
      "28 -0.00604  1.78802\n",
      "29  0.16278  1.84746\n",
      "..      ...      ...\n",
      "70 -0.44442  2.06623\n",
      "71  0.89583  3.04041\n",
      "72  1.30499  2.42824\n",
      "73  0.10883  0.63190\n",
      "74  1.79466  2.95265\n",
      "75 -0.00733  1.87546\n",
      "76  0.79862  3.44953\n",
      "77 -0.12353  1.53740\n",
      "78 -1.34999  1.59958\n",
      "79 -0.67825  1.57832\n",
      "80 -0.17901  1.73312\n",
      "81  0.12577  2.00244\n",
      "82  1.11943  2.08990\n",
      "83 -3.02296  1.09255\n",
      "84  0.64965  1.28183\n",
      "85  1.05994  2.32358\n",
      "86  0.53360  1.75136\n",
      "87 -0.73591  1.43076\n",
      "88 -0.09569  2.81376\n",
      "89  1.04694  2.56597\n",
      "90  0.46511  2.36401\n",
      "91 -0.75463  2.30161\n",
      "92 -0.94159  1.94500\n",
      "93 -0.09314  1.87619\n",
      "94 -0.98641  1.46602\n",
      "95 -0.92159  1.21538\n",
      "96  0.76953  2.39377\n",
      "97  0.03283  1.55730\n",
      "98 -1.07619  0.70874\n",
      "99  0.20174  1.76894\n",
      "\n",
      "[100 rows x 2 columns]\n"
     ]
    }
   ],
   "source": [
    "print(data)"
   ]
  },
  {
   "cell_type": "code",
   "execution_count": 16,
   "metadata": {},
   "outputs": [
    {
     "name": "stdout",
     "output_type": "stream",
     "text": [
      "100\n",
      "100\n"
     ]
    }
   ],
   "source": [
    "print(len(data))\n",
    "data_x = data[[0]]#iloc[:,0]\n",
    "data_y = data[[1]]#iloc[:,1]\n",
    "print(len(data_x))"
   ]
  },
  {
   "cell_type": "code",
   "execution_count": 19,
   "metadata": {},
   "outputs": [
    {
     "name": "stdout",
     "output_type": "stream",
     "text": [
      "75\n",
      "75\n",
      "25\n"
     ]
    }
   ],
   "source": [
    "X_train, X_test, y_train, y_test = train_test_split(data_x, data_y)#test_size =0.2 \n",
    "#X_train = X_train.reshape(-1, 1)\n",
    "print(len(X_train))\n",
    "print(len(y_train))\n",
    "print(len(X_test))"
   ]
  },
  {
   "cell_type": "code",
   "execution_count": 20,
   "metadata": {},
   "outputs": [],
   "source": [
    "model = LinearRegression()"
   ]
  },
  {
   "cell_type": "code",
   "execution_count": 21,
   "metadata": {},
   "outputs": [
    {
     "data": {
      "text/plain": [
       "LinearRegression(copy_X=True, fit_intercept=True, n_jobs=None,\n",
       "         normalize=False)"
      ]
     },
     "execution_count": 21,
     "metadata": {},
     "output_type": "execute_result"
    }
   ],
   "source": [
    "model.fit(X_train, y_train)"
   ]
  },
  {
   "cell_type": "code",
   "execution_count": 22,
   "metadata": {},
   "outputs": [],
   "source": [
    "#model.score(data_x, data_y)"
   ]
  },
  {
   "cell_type": "code",
   "execution_count": 23,
   "metadata": {},
   "outputs": [],
   "source": [
    "#model.coef_"
   ]
  },
  {
   "cell_type": "code",
   "execution_count": 24,
   "metadata": {},
   "outputs": [],
   "source": [
    "y_pred = model.predict(X_test)"
   ]
  },
  {
   "cell_type": "code",
   "execution_count": 25,
   "metadata": {},
   "outputs": [
    {
     "name": "stdout",
     "output_type": "stream",
     "text": [
      "mean_abs_error:  0.5786773925060358\n",
      "mean_sq_score:  0.48127173504665827\n",
      "r2_score:  0.2912625668121719\n"
     ]
    }
   ],
   "source": [
    "mean_abs_score = mean_absolute_error(y_test, y_pred)\n",
    "print(\"mean_abs_error: \", mean_abs_score)\n",
    "mean_sq_error = mean_squared_error(y_test, y_pred)\n",
    "print(\"mean_sq_score: \", mean_sq_error)\n",
    "r2 = r2_score(y_test, y_pred)\n",
    "print(\"r2_score: \", r2)"
   ]
  },
  {
   "cell_type": "code",
   "execution_count": 3,
   "metadata": {},
   "outputs": [],
   "source": [
    "#plot.scatter(X_test, y_test, color = 'red')\n",
    "#plot.plot(X_test, y_pred, color = 'blue')\n",
    "#plot.show()"
   ]
  },
  {
   "cell_type": "code",
   "execution_count": null,
   "metadata": {},
   "outputs": [],
   "source": []
  }
 ],
 "metadata": {
  "kernelspec": {
   "display_name": "Python 3",
   "language": "python",
   "name": "python3"
  },
  "language_info": {
   "codemirror_mode": {
    "name": "ipython",
    "version": 3
   },
   "file_extension": ".py",
   "mimetype": "text/x-python",
   "name": "python",
   "nbconvert_exporter": "python",
   "pygments_lexer": "ipython3",
   "version": "3.7.3"
  }
 },
 "nbformat": 4,
 "nbformat_minor": 2
}
