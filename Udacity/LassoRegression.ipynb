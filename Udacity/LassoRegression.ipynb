{
 "cells": [
  {
   "cell_type": "code",
   "execution_count": 13,
   "metadata": {},
   "outputs": [],
   "source": [
    "import seaborn as sns; sns.set()"
   ]
  },
  {
   "cell_type": "code",
   "execution_count": 14,
   "metadata": {},
   "outputs": [],
   "source": [
    "import matplotlib.pyplot as plt\n",
    "import pandas as pd"
   ]
  },
  {
   "cell_type": "code",
   "execution_count": 15,
   "metadata": {},
   "outputs": [],
   "source": [
    "fmri = sns.load_dataset(\"fmri\")"
   ]
  },
  {
   "cell_type": "code",
   "execution_count": 16,
   "metadata": {},
   "outputs": [
    {
     "name": "stdout",
     "output_type": "stream",
     "text": [
      "     subject  timepoint event    region    signal\n",
      "0        s13         18  stim  parietal -0.017552\n",
      "1         s5         14  stim  parietal -0.080883\n",
      "2        s12         18  stim  parietal -0.081033\n",
      "3        s11         18  stim  parietal -0.046134\n",
      "4        s10         18  stim  parietal -0.037970\n",
      "5         s9         18  stim  parietal -0.103513\n",
      "6         s8         18  stim  parietal -0.064408\n",
      "7         s7         18  stim  parietal -0.060526\n",
      "8         s6         18  stim  parietal -0.007029\n",
      "9         s5         18  stim  parietal -0.040557\n",
      "10        s4         18  stim  parietal -0.048812\n",
      "11        s3         18  stim  parietal -0.047148\n",
      "12        s2         18  stim  parietal -0.086623\n",
      "13        s1         18  stim  parietal -0.046659\n",
      "14        s0         18  stim  parietal -0.075570\n",
      "15       s13         17  stim  parietal -0.008265\n",
      "16       s12         17  stim  parietal -0.088512\n",
      "17        s7          9  stim  parietal  0.058897\n",
      "18       s10         17  stim  parietal -0.016847\n",
      "19        s9         17  stim  parietal -0.121574\n",
      "20        s8         17  stim  parietal -0.076287\n",
      "21        s7         17  stim  parietal -0.043812\n",
      "22        s6         17  stim  parietal -0.014746\n",
      "23        s5         17  stim  parietal -0.056682\n",
      "24        s4         17  stim  parietal -0.044582\n",
      "25        s3         17  stim  parietal -0.053514\n",
      "26        s2         17  stim  parietal -0.077292\n",
      "27        s1         17  stim  parietal -0.038021\n",
      "28        s0         17  stim  parietal -0.071300\n",
      "29       s13         16  stim  parietal -0.002856\n",
      "...      ...        ...   ...       ...       ...\n",
      "1034      s5         13   cue   frontal -0.014985\n",
      "1035      s4         13   cue   frontal -0.021514\n",
      "1036      s3         13   cue   frontal -0.047639\n",
      "1037      s2         13   cue   frontal  0.047918\n",
      "1038      s1         13   cue   frontal  0.028379\n",
      "1039      s0         13   cue   frontal -0.021729\n",
      "1040     s13         12   cue   frontal -0.020686\n",
      "1041     s12         12   cue   frontal -0.003034\n",
      "1042     s11         12   cue   frontal  0.055766\n",
      "1043     s10         12   cue   frontal  0.005711\n",
      "1044      s9         12   cue   frontal  0.024292\n",
      "1045      s7         12   cue   frontal -0.014005\n",
      "1046      s2          7   cue   frontal -0.078363\n",
      "1047     s10         10   cue   frontal -0.016124\n",
      "1048      s8         10   cue   frontal -0.015141\n",
      "1049     s10          8   cue   frontal -0.052505\n",
      "1050      s9          8   cue   frontal -0.008729\n",
      "1051      s8          8   cue   frontal  0.007278\n",
      "1052      s7          8   cue   frontal  0.015765\n",
      "1053      s6          8   cue   frontal -0.063961\n",
      "1054      s5          8   cue   frontal -0.028292\n",
      "1055      s4          8   cue   frontal -0.160821\n",
      "1056      s3          8   cue   frontal -0.033848\n",
      "1057      s2          8   cue   frontal -0.069666\n",
      "1058      s1          8   cue   frontal -0.136059\n",
      "1059      s0          8   cue   frontal  0.018165\n",
      "1060     s13          7   cue   frontal -0.029130\n",
      "1061     s12          7   cue   frontal -0.004939\n",
      "1062     s11          7   cue   frontal -0.025367\n",
      "1063      s0          0   cue  parietal -0.006899\n",
      "\n",
      "[1064 rows x 5 columns]\n"
     ]
    }
   ],
   "source": [
    "print(fmri)"
   ]
  },
  {
   "cell_type": "code",
   "execution_count": 24,
   "metadata": {},
   "outputs": [
    {
     "name": "stdout",
     "output_type": "stream",
     "text": [
      "    Episodes  Success with modulo  Success with min heap    DDPG\n",
      "0       1000                  276                  642.0   250.0\n",
      "1       2000                  350                  680.0    50.0\n",
      "2       3000                  614                  390.0    72.0\n",
      "3       4000                  554                   40.0   112.0\n",
      "4       5000                  693                  529.0   639.0\n",
      "5       6000                  374                  947.0   746.0\n",
      "6       7000                  220                 1000.0   764.0\n",
      "7       8000                  707                    NaN   972.0\n",
      "8       9000                  113                    NaN  1000.0\n",
      "9      10000                  750                    NaN     NaN\n",
      "10     11000                  883                    NaN     NaN\n",
      "11     12000                  993                    NaN     NaN\n",
      "12     13000                 1000                    NaN     NaN\n"
     ]
    }
   ],
   "source": [
    "data1 = pd.read_csv('success.csv')\n",
    "#data1 = data1.loc[1:]\n",
    "print(data1)"
   ]
  },
  {
   "cell_type": "code",
   "execution_count": 26,
   "metadata": {},
   "outputs": [
    {
     "data": {
      "image/png": "[encoded data removed]",
      "text/plain": [
       "<Figure size 432x288 with 1 Axes>"
      ]
     },
     "metadata": {},
     "output_type": "display_data"
    }
   ],
   "source": [
    "ax = sns.lineplot(x='Episodes', y='Success with modulo', data=data1)"
   ]
  },
  {
   "cell_type": "code",
   "execution_count": null,
   "metadata": {},
   "outputs": [],
   "source": []
  }
 ],
 "metadata": {
  "kernelspec": {
   "display_name": "Python 3",
   "language": "python",
   "name": "python3"
  },
  "language_info": {
   "codemirror_mode": {
    "name": "ipython",
    "version": 3
   },
   "file_extension": ".py",
   "mimetype": "text/x-python",
   "name": "python",
   "nbconvert_exporter": "python",
   "pygments_lexer": "ipython3",
   "version": "3.7.3"
  }
 },
 "nbformat": 4,
 "nbformat_minor": 2
}
